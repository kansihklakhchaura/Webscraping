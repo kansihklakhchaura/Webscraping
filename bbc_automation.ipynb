{
 "cells": [
  {
   "cell_type": "code",
   "execution_count": 1,
   "id": "c11a6a37",
   "metadata": {},
   "outputs": [
    {
     "name": "stdout",
     "output_type": "stream",
     "text": [
      "Scraping completed and data saved to 'bbc_articles.csv'\n"
     ]
    }
   ],
   "source": [
    "import requests\n",
    "from bs4 import BeautifulSoup\n",
    "import pandas as pd\n",
    "\n",
    "# Function to get the HTML content of a webpage\n",
    "def get_html(url):\n",
    "    response = requests.get(url)\n",
    "    return response.content\n",
    "\n",
    "# Function to parse the BBC homepage and extract article links\n",
    "def parse_homepage(html):\n",
    "    soup = BeautifulSoup(html, 'html.parser')\n",
    "    articles = []\n",
    "    \n",
    "    for link in soup.find_all('a', href=True):\n",
    "        href = link['href']\n",
    "        if '/news/' in href and href.startswith('/news/'):\n",
    "            full_url = 'https://www.bbc.com' + href\n",
    "            articles.append(full_url)\n",
    "    \n",
    "    return list(set(articles))  # Remove duplicates\n",
    "\n",
    "# Function to parse individual article page\n",
    "def parse_article(html):\n",
    "    soup = BeautifulSoup(html, 'html.parser')\n",
    "    title = soup.find('h1').text if soup.find('h1') else 'No title'\n",
    "    paragraphs = soup.find_all('p')\n",
    "    content = ' '.join([para.text for para in paragraphs])\n",
    "    \n",
    "    return title, content\n",
    "\n",
    "# Main script\n",
    "if __name__ == \"__main__\":\n",
    "    homepage_url = 'https://www.bbc.com'\n",
    "    html = get_html(homepage_url)\n",
    "    article_links = parse_homepage(html)\n",
    "    \n",
    "    articles_data = []\n",
    "\n",
    "    for link in article_links:\n",
    "        try:\n",
    "            article_html = get_html(link)\n",
    "            title, content = parse_article(article_html)\n",
    "            articles_data.append({'Title': title, 'Content': content, 'URL': link})\n",
    "        except Exception as e:\n",
    "            print(f\"Failed to scrape {link}: {e}\")\n",
    "    \n",
    "    # Save to CSV\n",
    "    df = pd.DataFrame(articles_data)\n",
    "    df.to_csv('bbc_articles.csv', index=False)\n",
    "    \n",
    "    print(\"Scraping completed and data saved to 'bbc_articles.csv'\")\n"
   ]
  },
  {
   "cell_type": "code",
   "execution_count": null,
   "id": "62a3724c",
   "metadata": {},
   "outputs": [],
   "source": []
  }
 ],
 "metadata": {
  "kernelspec": {
   "display_name": "Python 3",
   "language": "python",
   "name": "python3"
  },
  "language_info": {
   "codemirror_mode": {
    "name": "ipython",
    "version": 3
   },
   "file_extension": ".py",
   "mimetype": "text/x-python",
   "name": "python",
   "nbconvert_exporter": "python",
   "pygments_lexer": "ipython3",
   "version": "3.11.0"
  }
 },
 "nbformat": 4,
 "nbformat_minor": 5
}
