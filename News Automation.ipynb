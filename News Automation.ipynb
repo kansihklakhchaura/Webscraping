{
 "cells": [
  {
   "cell_type": "code",
   "execution_count": 13,
   "id": "82943c53",
   "metadata": {},
   "outputs": [],
   "source": [
    "#Import\n",
    "from selenium import webdriver\n",
    "from selenium.webdriver.common.by import By\n",
    "import pandas as pd\n",
    "import bs4 as bs"
   ]
  },
  {
   "cell_type": "code",
   "execution_count": 14,
   "id": "24afab8c",
   "metadata": {
    "scrolled": true
   },
   "outputs": [
    {
     "name": "stderr",
     "output_type": "stream",
     "text": [
      "C:\\Users\\Dell\\AppData\\Local\\Temp\\ipykernel_10856\\255577423.py:2: DeprecationWarning: executable_path has been deprecated, please pass in a Service object\n",
      "  driver=webdriver.Chrome(path)\n"
     ]
    }
   ],
   "source": [
    "path=r\"C:\\Users\\Dell\\Downloads\\chromedriver-win64 (2)\\chromedriver-win64\\chromedriver.exe\"\n",
    "driver=webdriver.Chrome(path)"
   ]
  },
  {
   "cell_type": "code",
   "execution_count": 15,
   "id": "d869af29",
   "metadata": {},
   "outputs": [],
   "source": [
    "driver.get(\"https://news.google.com/showcase?hl=en-IN&gl=IN&ceid=IN%3Aen\")"
   ]
  },
  {
   "cell_type": "code",
   "execution_count": 16,
   "id": "790d26d7",
   "metadata": {},
   "outputs": [],
   "source": [
    "ebcn=driver.find_elements(By.CLASS_NAME, \"sLwsDb\")\n"
   ]
  },
  {
   "cell_type": "markdown",
   "id": "0ea97ebb",
   "metadata": {},
   "source": [
    "# Data  Segregation "
   ]
  },
  {
   "cell_type": "code",
   "execution_count": 17,
   "id": "5ccb1d16",
   "metadata": {},
   "outputs": [],
   "source": [
    "topic=[]\n",
    "headline=[]\n",
    "link=[]"
   ]
  },
  {
   "cell_type": "code",
   "execution_count": 18,
   "id": "c8607e3e",
   "metadata": {},
   "outputs": [],
   "source": [
    "\n",
    "for i in ebcn:\n",
    "    txt=i.text.split(\"\\n\")\n",
    "    topic.append(txt[0])\n",
    "    headline.append(txt[1])\n",
    "    link.append(i.find_element(By.TAG_NAME, \"a\").get_attribute(\"href\"))\n",
    "     \n",
    "    \n",
    "    \n",
    "        "
   ]
  },
  {
   "cell_type": "markdown",
   "id": "c6833489",
   "metadata": {},
   "source": [
    "# Saving as CSV"
   ]
  },
  {
   "cell_type": "code",
   "execution_count": 19,
   "id": "dea84da7",
   "metadata": {},
   "outputs": [],
   "source": [
    "\n",
    "dict={\"topic\":topic,\"link\":link,\"headline\":headline}"
   ]
  },
  {
   "cell_type": "code",
   "execution_count": 20,
   "id": "c76a727d",
   "metadata": {},
   "outputs": [],
   "source": [
    "extracted_news=pd.DataFrame(dict)"
   ]
  },
  {
   "cell_type": "code",
   "execution_count": 21,
   "id": "b20cf13f",
   "metadata": {},
   "outputs": [
    {
     "data": {
      "text/html": [
       "<div>\n",
       "<style scoped>\n",
       "    .dataframe tbody tr th:only-of-type {\n",
       "        vertical-align: middle;\n",
       "    }\n",
       "\n",
       "    .dataframe tbody tr th {\n",
       "        vertical-align: top;\n",
       "    }\n",
       "\n",
       "    .dataframe thead th {\n",
       "        text-align: right;\n",
       "    }\n",
       "</style>\n",
       "<table border=\"1\" class=\"dataframe\">\n",
       "  <thead>\n",
       "    <tr style=\"text-align: right;\">\n",
       "      <th></th>\n",
       "      <th>topic</th>\n",
       "      <th>link</th>\n",
       "      <th>headline</th>\n",
       "    </tr>\n",
       "  </thead>\n",
       "  <tbody>\n",
       "    <tr>\n",
       "      <th>0</th>\n",
       "      <td>Middle East Conflict</td>\n",
       "      <td>https://news.google.com/read/CBMigwNBVV95cUxOb...</td>\n",
       "      <td>Delhi 'Concerned' Over Israeli Strikes At UN F...</td>\n",
       "    </tr>\n",
       "    <tr>\n",
       "      <th>1</th>\n",
       "      <td>TN Train Accident</td>\n",
       "      <td>https://news.google.com/read/CBMiqgNBVV95cUxNY...</td>\n",
       "      <td>Helplines Issued For Affected Passengers, Resc...</td>\n",
       "    </tr>\n",
       "    <tr>\n",
       "      <th>2</th>\n",
       "      <td>Bumrah To Lead India?</td>\n",
       "      <td>https://news.google.com/read/CBMilANBVV95cUxPQ...</td>\n",
       "      <td>BCCI's Major Hint Ahead Of Australia Series</td>\n",
       "    </tr>\n",
       "    <tr>\n",
       "      <th>3</th>\n",
       "      <td>Renewable Energy</td>\n",
       "      <td>https://news.google.com/read/CBMilwVBVV95cUxPa...</td>\n",
       "      <td>Gujarat to add 20GW RE capacity in Kutch, Bana...</td>\n",
       "    </tr>\n",
       "    <tr>\n",
       "      <th>4</th>\n",
       "      <td>Damage for held-up rice cargo</td>\n",
       "      <td>https://news.google.com/read/CBMitwVBVV95cUxPU...</td>\n",
       "      <td>Gujarat HC orders ‘arrest’ of SW South Wind I</td>\n",
       "    </tr>\n",
       "    <tr>\n",
       "      <th>...</th>\n",
       "      <td>...</td>\n",
       "      <td>...</td>\n",
       "      <td>...</td>\n",
       "    </tr>\n",
       "    <tr>\n",
       "      <th>106</th>\n",
       "      <td>'Not their enemy'</td>\n",
       "      <td>https://news.google.com/read/CBMi_wJBVV95cUxPZ...</td>\n",
       "      <td>Farooq Abdullah calls for return of Kashmiri P...</td>\n",
       "    </tr>\n",
       "    <tr>\n",
       "      <th>107</th>\n",
       "      <td>Mehsana mishap</td>\n",
       "      <td>https://news.google.com/read/CBMi4gJBVV95cUxOb...</td>\n",
       "      <td>9 workers dead after wall collapses at constru...</td>\n",
       "    </tr>\n",
       "    <tr>\n",
       "      <th>108</th>\n",
       "      <td>INDIA</td>\n",
       "      <td>https://news.google.com/read/CBMihANBVV95cUxPR...</td>\n",
       "      <td>Bagmati Express derailment: Railway safety Com...</td>\n",
       "    </tr>\n",
       "    <tr>\n",
       "      <th>109</th>\n",
       "      <td>KERALA</td>\n",
       "      <td>https://news.google.com/read/CBMi9gJBVV95cUxQZ...</td>\n",
       "      <td>With COVID-ravaged lungs, Kerala Excise offici...</td>\n",
       "    </tr>\n",
       "    <tr>\n",
       "      <th>110</th>\n",
       "      <td>KERALA</td>\n",
       "      <td>https://news.google.com/read/CBMiywJBVV95cUxQa...</td>\n",
       "      <td>No more interrogation for Siddique in rape cas...</td>\n",
       "    </tr>\n",
       "  </tbody>\n",
       "</table>\n",
       "<p>111 rows × 3 columns</p>\n",
       "</div>"
      ],
      "text/plain": [
       "                             topic  \\\n",
       "0             Middle East Conflict   \n",
       "1                TN Train Accident   \n",
       "2            Bumrah To Lead India?   \n",
       "3                 Renewable Energy   \n",
       "4    Damage for held-up rice cargo   \n",
       "..                             ...   \n",
       "106              'Not their enemy'   \n",
       "107                 Mehsana mishap   \n",
       "108                          INDIA   \n",
       "109                         KERALA   \n",
       "110                         KERALA   \n",
       "\n",
       "                                                  link  \\\n",
       "0    https://news.google.com/read/CBMigwNBVV95cUxOb...   \n",
       "1    https://news.google.com/read/CBMiqgNBVV95cUxNY...   \n",
       "2    https://news.google.com/read/CBMilANBVV95cUxPQ...   \n",
       "3    https://news.google.com/read/CBMilwVBVV95cUxPa...   \n",
       "4    https://news.google.com/read/CBMitwVBVV95cUxPU...   \n",
       "..                                                 ...   \n",
       "106  https://news.google.com/read/CBMi_wJBVV95cUxPZ...   \n",
       "107  https://news.google.com/read/CBMi4gJBVV95cUxOb...   \n",
       "108  https://news.google.com/read/CBMihANBVV95cUxPR...   \n",
       "109  https://news.google.com/read/CBMi9gJBVV95cUxQZ...   \n",
       "110  https://news.google.com/read/CBMiywJBVV95cUxQa...   \n",
       "\n",
       "                                              headline  \n",
       "0    Delhi 'Concerned' Over Israeli Strikes At UN F...  \n",
       "1    Helplines Issued For Affected Passengers, Resc...  \n",
       "2          BCCI's Major Hint Ahead Of Australia Series  \n",
       "3    Gujarat to add 20GW RE capacity in Kutch, Bana...  \n",
       "4        Gujarat HC orders ‘arrest’ of SW South Wind I  \n",
       "..                                                 ...  \n",
       "106  Farooq Abdullah calls for return of Kashmiri P...  \n",
       "107  9 workers dead after wall collapses at constru...  \n",
       "108  Bagmati Express derailment: Railway safety Com...  \n",
       "109  With COVID-ravaged lungs, Kerala Excise offici...  \n",
       "110  No more interrogation for Siddique in rape cas...  \n",
       "\n",
       "[111 rows x 3 columns]"
      ]
     },
     "execution_count": 21,
     "metadata": {},
     "output_type": "execute_result"
    }
   ],
   "source": [
    "extracted_news"
   ]
  },
  {
   "cell_type": "code",
   "execution_count": 22,
   "id": "54640420",
   "metadata": {},
   "outputs": [],
   "source": [
    "extracted_news.to_csv(\"news.csv\",index=\"False\")"
   ]
  },
  {
   "cell_type": "code",
   "execution_count": 23,
   "id": "eb83d744",
   "metadata": {},
   "outputs": [],
   "source": [
    "driver.quit()"
   ]
  }
 ],
 "metadata": {
  "kernelspec": {
   "display_name": "Python 3",
   "language": "python",
   "name": "python3"
  },
  "language_info": {
   "codemirror_mode": {
    "name": "ipython",
    "version": 3
   },
   "file_extension": ".py",
   "mimetype": "text/x-python",
   "name": "python",
   "nbconvert_exporter": "python",
   "pygments_lexer": "ipython3",
   "version": "3.11.0"
  }
 },
 "nbformat": 4,
 "nbformat_minor": 5
}
