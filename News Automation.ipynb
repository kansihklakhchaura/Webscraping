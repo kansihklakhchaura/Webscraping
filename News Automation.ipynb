{
 "cells": [
  {
   "cell_type": "code",
   "execution_count": 1,
   "id": "82943c53",
   "metadata": {},
   "outputs": [],
   "source": [
    "#Import\n",
    "from selenium import webdriver\n",
    "from selenium.webdriver.common.by import By\n",
    "import pandas as pd\n",
    "import bs4 as bs"
   ]
  },
  {
   "cell_type": "code",
   "execution_count": 2,
   "id": "24afab8c",
   "metadata": {
    "scrolled": true
   },
   "outputs": [
    {
     "name": "stderr",
     "output_type": "stream",
     "text": [
      "C:\\Users\\Dell\\AppData\\Local\\Temp\\ipykernel_16788\\255577423.py:2: DeprecationWarning: executable_path has been deprecated, please pass in a Service object\n",
      "  driver=webdriver.Chrome(path)\n"
     ]
    }
   ],
   "source": [
    "path=r\"C:\\Users\\Dell\\Downloads\\chromedriver-win64 (2)\\chromedriver-win64\\chromedriver.exe\"\n",
    "driver=webdriver.Chrome(path)"
   ]
  },
  {
   "cell_type": "code",
   "execution_count": 3,
   "id": "d869af29",
   "metadata": {},
   "outputs": [],
   "source": [
    "driver.get(\"https://news.google.com/showcase?hl=en-IN&gl=IN&ceid=IN%3Aen\")"
   ]
  },
  {
   "cell_type": "code",
   "execution_count": 4,
   "id": "790d26d7",
   "metadata": {},
   "outputs": [],
   "source": [
    "ebcn=driver.find_elements(By.CLASS_NAME, \"sLwsDb\")\n"
   ]
  },
  {
   "cell_type": "code",
   "execution_count": 5,
   "id": "a4311d45",
   "metadata": {},
   "outputs": [
    {
     "data": {
      "text/plain": [
       "[<selenium.webdriver.remote.webelement.WebElement (session=\"331e719a8859de93c11cbf85ffc4749a\", element=\"f.C26AABF74AC9622EF2002FB969A82A51.d.138FB77F4EA3C67C2A2913A2E50BC6BF.e.43\")>,\n",
       " <selenium.webdriver.remote.webelement.WebElement (session=\"331e719a8859de93c11cbf85ffc4749a\", element=\"f.C26AABF74AC9622EF2002FB969A82A51.d.138FB77F4EA3C67C2A2913A2E50BC6BF.e.44\")>,\n",
       " <selenium.webdriver.remote.webelement.WebElement (session=\"331e719a8859de93c11cbf85ffc4749a\", element=\"f.C26AABF74AC9622EF2002FB969A82A51.d.138FB77F4EA3C67C2A2913A2E50BC6BF.e.13\")>,\n",
       " <selenium.webdriver.remote.webelement.WebElement (session=\"331e719a8859de93c11cbf85ffc4749a\", element=\"f.C26AABF74AC9622EF2002FB969A82A51.d.138FB77F4EA3C67C2A2913A2E50BC6BF.e.45\")>,\n",
       " <selenium.webdriver.remote.webelement.WebElement (session=\"331e719a8859de93c11cbf85ffc4749a\", element=\"f.C26AABF74AC9622EF2002FB969A82A51.d.138FB77F4EA3C67C2A2913A2E50BC6BF.e.46\")>,\n",
       " <selenium.webdriver.remote.webelement.WebElement (session=\"331e719a8859de93c11cbf85ffc4749a\", element=\"f.C26AABF74AC9622EF2002FB969A82A51.d.138FB77F4EA3C67C2A2913A2E50BC6BF.e.47\")>,\n",
       " <selenium.webdriver.remote.webelement.WebElement (session=\"331e719a8859de93c11cbf85ffc4749a\", element=\"f.C26AABF74AC9622EF2002FB969A82A51.d.138FB77F4EA3C67C2A2913A2E50BC6BF.e.48\")>,\n",
       " <selenium.webdriver.remote.webelement.WebElement (session=\"331e719a8859de93c11cbf85ffc4749a\", element=\"f.C26AABF74AC9622EF2002FB969A82A51.d.138FB77F4EA3C67C2A2913A2E50BC6BF.e.49\")>,\n",
       " <selenium.webdriver.remote.webelement.WebElement (session=\"331e719a8859de93c11cbf85ffc4749a\", element=\"f.C26AABF74AC9622EF2002FB969A82A51.d.138FB77F4EA3C67C2A2913A2E50BC6BF.e.50\")>,\n",
       " <selenium.webdriver.remote.webelement.WebElement (session=\"331e719a8859de93c11cbf85ffc4749a\", element=\"f.C26AABF74AC9622EF2002FB969A82A51.d.138FB77F4EA3C67C2A2913A2E50BC6BF.e.51\")>,\n",
       " <selenium.webdriver.remote.webelement.WebElement (session=\"331e719a8859de93c11cbf85ffc4749a\", element=\"f.C26AABF74AC9622EF2002FB969A82A51.d.138FB77F4EA3C67C2A2913A2E50BC6BF.e.52\")>,\n",
       " <selenium.webdriver.remote.webelement.WebElement (session=\"331e719a8859de93c11cbf85ffc4749a\", element=\"f.C26AABF74AC9622EF2002FB969A82A51.d.138FB77F4EA3C67C2A2913A2E50BC6BF.e.53\")>,\n",
       " <selenium.webdriver.remote.webelement.WebElement (session=\"331e719a8859de93c11cbf85ffc4749a\", element=\"f.C26AABF74AC9622EF2002FB969A82A51.d.138FB77F4EA3C67C2A2913A2E50BC6BF.e.54\")>,\n",
       " <selenium.webdriver.remote.webelement.WebElement (session=\"331e719a8859de93c11cbf85ffc4749a\", element=\"f.C26AABF74AC9622EF2002FB969A82A51.d.138FB77F4EA3C67C2A2913A2E50BC6BF.e.55\")>,\n",
       " <selenium.webdriver.remote.webelement.WebElement (session=\"331e719a8859de93c11cbf85ffc4749a\", element=\"f.C26AABF74AC9622EF2002FB969A82A51.d.138FB77F4EA3C67C2A2913A2E50BC6BF.e.56\")>,\n",
       " <selenium.webdriver.remote.webelement.WebElement (session=\"331e719a8859de93c11cbf85ffc4749a\", element=\"f.C26AABF74AC9622EF2002FB969A82A51.d.138FB77F4EA3C67C2A2913A2E50BC6BF.e.57\")>,\n",
       " <selenium.webdriver.remote.webelement.WebElement (session=\"331e719a8859de93c11cbf85ffc4749a\", element=\"f.C26AABF74AC9622EF2002FB969A82A51.d.138FB77F4EA3C67C2A2913A2E50BC6BF.e.58\")>,\n",
       " <selenium.webdriver.remote.webelement.WebElement (session=\"331e719a8859de93c11cbf85ffc4749a\", element=\"f.C26AABF74AC9622EF2002FB969A82A51.d.138FB77F4EA3C67C2A2913A2E50BC6BF.e.59\")>,\n",
       " <selenium.webdriver.remote.webelement.WebElement (session=\"331e719a8859de93c11cbf85ffc4749a\", element=\"f.C26AABF74AC9622EF2002FB969A82A51.d.138FB77F4EA3C67C2A2913A2E50BC6BF.e.60\")>,\n",
       " <selenium.webdriver.remote.webelement.WebElement (session=\"331e719a8859de93c11cbf85ffc4749a\", element=\"f.C26AABF74AC9622EF2002FB969A82A51.d.138FB77F4EA3C67C2A2913A2E50BC6BF.e.61\")>,\n",
       " <selenium.webdriver.remote.webelement.WebElement (session=\"331e719a8859de93c11cbf85ffc4749a\", element=\"f.C26AABF74AC9622EF2002FB969A82A51.d.138FB77F4EA3C67C2A2913A2E50BC6BF.e.62\")>,\n",
       " <selenium.webdriver.remote.webelement.WebElement (session=\"331e719a8859de93c11cbf85ffc4749a\", element=\"f.C26AABF74AC9622EF2002FB969A82A51.d.138FB77F4EA3C67C2A2913A2E50BC6BF.e.63\")>,\n",
       " <selenium.webdriver.remote.webelement.WebElement (session=\"331e719a8859de93c11cbf85ffc4749a\", element=\"f.C26AABF74AC9622EF2002FB969A82A51.d.138FB77F4EA3C67C2A2913A2E50BC6BF.e.64\")>,\n",
       " <selenium.webdriver.remote.webelement.WebElement (session=\"331e719a8859de93c11cbf85ffc4749a\", element=\"f.C26AABF74AC9622EF2002FB969A82A51.d.138FB77F4EA3C67C2A2913A2E50BC6BF.e.65\")>,\n",
       " <selenium.webdriver.remote.webelement.WebElement (session=\"331e719a8859de93c11cbf85ffc4749a\", element=\"f.C26AABF74AC9622EF2002FB969A82A51.d.138FB77F4EA3C67C2A2913A2E50BC6BF.e.66\")>,\n",
       " <selenium.webdriver.remote.webelement.WebElement (session=\"331e719a8859de93c11cbf85ffc4749a\", element=\"f.C26AABF74AC9622EF2002FB969A82A51.d.138FB77F4EA3C67C2A2913A2E50BC6BF.e.67\")>,\n",
       " <selenium.webdriver.remote.webelement.WebElement (session=\"331e719a8859de93c11cbf85ffc4749a\", element=\"f.C26AABF74AC9622EF2002FB969A82A51.d.138FB77F4EA3C67C2A2913A2E50BC6BF.e.68\")>,\n",
       " <selenium.webdriver.remote.webelement.WebElement (session=\"331e719a8859de93c11cbf85ffc4749a\", element=\"f.C26AABF74AC9622EF2002FB969A82A51.d.138FB77F4EA3C67C2A2913A2E50BC6BF.e.69\")>,\n",
       " <selenium.webdriver.remote.webelement.WebElement (session=\"331e719a8859de93c11cbf85ffc4749a\", element=\"f.C26AABF74AC9622EF2002FB969A82A51.d.138FB77F4EA3C67C2A2913A2E50BC6BF.e.70\")>,\n",
       " <selenium.webdriver.remote.webelement.WebElement (session=\"331e719a8859de93c11cbf85ffc4749a\", element=\"f.C26AABF74AC9622EF2002FB969A82A51.d.138FB77F4EA3C67C2A2913A2E50BC6BF.e.71\")>,\n",
       " <selenium.webdriver.remote.webelement.WebElement (session=\"331e719a8859de93c11cbf85ffc4749a\", element=\"f.C26AABF74AC9622EF2002FB969A82A51.d.138FB77F4EA3C67C2A2913A2E50BC6BF.e.72\")>,\n",
       " <selenium.webdriver.remote.webelement.WebElement (session=\"331e719a8859de93c11cbf85ffc4749a\", element=\"f.C26AABF74AC9622EF2002FB969A82A51.d.138FB77F4EA3C67C2A2913A2E50BC6BF.e.73\")>,\n",
       " <selenium.webdriver.remote.webelement.WebElement (session=\"331e719a8859de93c11cbf85ffc4749a\", element=\"f.C26AABF74AC9622EF2002FB969A82A51.d.138FB77F4EA3C67C2A2913A2E50BC6BF.e.74\")>,\n",
       " <selenium.webdriver.remote.webelement.WebElement (session=\"331e719a8859de93c11cbf85ffc4749a\", element=\"f.C26AABF74AC9622EF2002FB969A82A51.d.138FB77F4EA3C67C2A2913A2E50BC6BF.e.75\")>,\n",
       " <selenium.webdriver.remote.webelement.WebElement (session=\"331e719a8859de93c11cbf85ffc4749a\", element=\"f.C26AABF74AC9622EF2002FB969A82A51.d.138FB77F4EA3C67C2A2913A2E50BC6BF.e.76\")>,\n",
       " <selenium.webdriver.remote.webelement.WebElement (session=\"331e719a8859de93c11cbf85ffc4749a\", element=\"f.C26AABF74AC9622EF2002FB969A82A51.d.138FB77F4EA3C67C2A2913A2E50BC6BF.e.77\")>,\n",
       " <selenium.webdriver.remote.webelement.WebElement (session=\"331e719a8859de93c11cbf85ffc4749a\", element=\"f.C26AABF74AC9622EF2002FB969A82A51.d.138FB77F4EA3C67C2A2913A2E50BC6BF.e.78\")>,\n",
       " <selenium.webdriver.remote.webelement.WebElement (session=\"331e719a8859de93c11cbf85ffc4749a\", element=\"f.C26AABF74AC9622EF2002FB969A82A51.d.138FB77F4EA3C67C2A2913A2E50BC6BF.e.79\")>,\n",
       " <selenium.webdriver.remote.webelement.WebElement (session=\"331e719a8859de93c11cbf85ffc4749a\", element=\"f.C26AABF74AC9622EF2002FB969A82A51.d.138FB77F4EA3C67C2A2913A2E50BC6BF.e.80\")>,\n",
       " <selenium.webdriver.remote.webelement.WebElement (session=\"331e719a8859de93c11cbf85ffc4749a\", element=\"f.C26AABF74AC9622EF2002FB969A82A51.d.138FB77F4EA3C67C2A2913A2E50BC6BF.e.81\")>,\n",
       " <selenium.webdriver.remote.webelement.WebElement (session=\"331e719a8859de93c11cbf85ffc4749a\", element=\"f.C26AABF74AC9622EF2002FB969A82A51.d.138FB77F4EA3C67C2A2913A2E50BC6BF.e.82\")>,\n",
       " <selenium.webdriver.remote.webelement.WebElement (session=\"331e719a8859de93c11cbf85ffc4749a\", element=\"f.C26AABF74AC9622EF2002FB969A82A51.d.138FB77F4EA3C67C2A2913A2E50BC6BF.e.83\")>,\n",
       " <selenium.webdriver.remote.webelement.WebElement (session=\"331e719a8859de93c11cbf85ffc4749a\", element=\"f.C26AABF74AC9622EF2002FB969A82A51.d.138FB77F4EA3C67C2A2913A2E50BC6BF.e.84\")>,\n",
       " <selenium.webdriver.remote.webelement.WebElement (session=\"331e719a8859de93c11cbf85ffc4749a\", element=\"f.C26AABF74AC9622EF2002FB969A82A51.d.138FB77F4EA3C67C2A2913A2E50BC6BF.e.85\")>,\n",
       " <selenium.webdriver.remote.webelement.WebElement (session=\"331e719a8859de93c11cbf85ffc4749a\", element=\"f.C26AABF74AC9622EF2002FB969A82A51.d.138FB77F4EA3C67C2A2913A2E50BC6BF.e.86\")>,\n",
       " <selenium.webdriver.remote.webelement.WebElement (session=\"331e719a8859de93c11cbf85ffc4749a\", element=\"f.C26AABF74AC9622EF2002FB969A82A51.d.138FB77F4EA3C67C2A2913A2E50BC6BF.e.87\")>,\n",
       " <selenium.webdriver.remote.webelement.WebElement (session=\"331e719a8859de93c11cbf85ffc4749a\", element=\"f.C26AABF74AC9622EF2002FB969A82A51.d.138FB77F4EA3C67C2A2913A2E50BC6BF.e.88\")>,\n",
       " <selenium.webdriver.remote.webelement.WebElement (session=\"331e719a8859de93c11cbf85ffc4749a\", element=\"f.C26AABF74AC9622EF2002FB969A82A51.d.138FB77F4EA3C67C2A2913A2E50BC6BF.e.89\")>,\n",
       " <selenium.webdriver.remote.webelement.WebElement (session=\"331e719a8859de93c11cbf85ffc4749a\", element=\"f.C26AABF74AC9622EF2002FB969A82A51.d.138FB77F4EA3C67C2A2913A2E50BC6BF.e.90\")>,\n",
       " <selenium.webdriver.remote.webelement.WebElement (session=\"331e719a8859de93c11cbf85ffc4749a\", element=\"f.C26AABF74AC9622EF2002FB969A82A51.d.138FB77F4EA3C67C2A2913A2E50BC6BF.e.91\")>,\n",
       " <selenium.webdriver.remote.webelement.WebElement (session=\"331e719a8859de93c11cbf85ffc4749a\", element=\"f.C26AABF74AC9622EF2002FB969A82A51.d.138FB77F4EA3C67C2A2913A2E50BC6BF.e.92\")>,\n",
       " <selenium.webdriver.remote.webelement.WebElement (session=\"331e719a8859de93c11cbf85ffc4749a\", element=\"f.C26AABF74AC9622EF2002FB969A82A51.d.138FB77F4EA3C67C2A2913A2E50BC6BF.e.93\")>,\n",
       " <selenium.webdriver.remote.webelement.WebElement (session=\"331e719a8859de93c11cbf85ffc4749a\", element=\"f.C26AABF74AC9622EF2002FB969A82A51.d.138FB77F4EA3C67C2A2913A2E50BC6BF.e.94\")>,\n",
       " <selenium.webdriver.remote.webelement.WebElement (session=\"331e719a8859de93c11cbf85ffc4749a\", element=\"f.C26AABF74AC9622EF2002FB969A82A51.d.138FB77F4EA3C67C2A2913A2E50BC6BF.e.95\")>,\n",
       " <selenium.webdriver.remote.webelement.WebElement (session=\"331e719a8859de93c11cbf85ffc4749a\", element=\"f.C26AABF74AC9622EF2002FB969A82A51.d.138FB77F4EA3C67C2A2913A2E50BC6BF.e.96\")>,\n",
       " <selenium.webdriver.remote.webelement.WebElement (session=\"331e719a8859de93c11cbf85ffc4749a\", element=\"f.C26AABF74AC9622EF2002FB969A82A51.d.138FB77F4EA3C67C2A2913A2E50BC6BF.e.97\")>,\n",
       " <selenium.webdriver.remote.webelement.WebElement (session=\"331e719a8859de93c11cbf85ffc4749a\", element=\"f.C26AABF74AC9622EF2002FB969A82A51.d.138FB77F4EA3C67C2A2913A2E50BC6BF.e.98\")>,\n",
       " <selenium.webdriver.remote.webelement.WebElement (session=\"331e719a8859de93c11cbf85ffc4749a\", element=\"f.C26AABF74AC9622EF2002FB969A82A51.d.138FB77F4EA3C67C2A2913A2E50BC6BF.e.99\")>,\n",
       " <selenium.webdriver.remote.webelement.WebElement (session=\"331e719a8859de93c11cbf85ffc4749a\", element=\"f.C26AABF74AC9622EF2002FB969A82A51.d.138FB77F4EA3C67C2A2913A2E50BC6BF.e.100\")>,\n",
       " <selenium.webdriver.remote.webelement.WebElement (session=\"331e719a8859de93c11cbf85ffc4749a\", element=\"f.C26AABF74AC9622EF2002FB969A82A51.d.138FB77F4EA3C67C2A2913A2E50BC6BF.e.101\")>,\n",
       " <selenium.webdriver.remote.webelement.WebElement (session=\"331e719a8859de93c11cbf85ffc4749a\", element=\"f.C26AABF74AC9622EF2002FB969A82A51.d.138FB77F4EA3C67C2A2913A2E50BC6BF.e.102\")>,\n",
       " <selenium.webdriver.remote.webelement.WebElement (session=\"331e719a8859de93c11cbf85ffc4749a\", element=\"f.C26AABF74AC9622EF2002FB969A82A51.d.138FB77F4EA3C67C2A2913A2E50BC6BF.e.103\")>,\n",
       " <selenium.webdriver.remote.webelement.WebElement (session=\"331e719a8859de93c11cbf85ffc4749a\", element=\"f.C26AABF74AC9622EF2002FB969A82A51.d.138FB77F4EA3C67C2A2913A2E50BC6BF.e.104\")>,\n",
       " <selenium.webdriver.remote.webelement.WebElement (session=\"331e719a8859de93c11cbf85ffc4749a\", element=\"f.C26AABF74AC9622EF2002FB969A82A51.d.138FB77F4EA3C67C2A2913A2E50BC6BF.e.105\")>,\n",
       " <selenium.webdriver.remote.webelement.WebElement (session=\"331e719a8859de93c11cbf85ffc4749a\", element=\"f.C26AABF74AC9622EF2002FB969A82A51.d.138FB77F4EA3C67C2A2913A2E50BC6BF.e.106\")>,\n",
       " <selenium.webdriver.remote.webelement.WebElement (session=\"331e719a8859de93c11cbf85ffc4749a\", element=\"f.C26AABF74AC9622EF2002FB969A82A51.d.138FB77F4EA3C67C2A2913A2E50BC6BF.e.107\")>,\n",
       " <selenium.webdriver.remote.webelement.WebElement (session=\"331e719a8859de93c11cbf85ffc4749a\", element=\"f.C26AABF74AC9622EF2002FB969A82A51.d.138FB77F4EA3C67C2A2913A2E50BC6BF.e.108\")>,\n",
       " <selenium.webdriver.remote.webelement.WebElement (session=\"331e719a8859de93c11cbf85ffc4749a\", element=\"f.C26AABF74AC9622EF2002FB969A82A51.d.138FB77F4EA3C67C2A2913A2E50BC6BF.e.109\")>,\n",
       " <selenium.webdriver.remote.webelement.WebElement (session=\"331e719a8859de93c11cbf85ffc4749a\", element=\"f.C26AABF74AC9622EF2002FB969A82A51.d.138FB77F4EA3C67C2A2913A2E50BC6BF.e.110\")>,\n",
       " <selenium.webdriver.remote.webelement.WebElement (session=\"331e719a8859de93c11cbf85ffc4749a\", element=\"f.C26AABF74AC9622EF2002FB969A82A51.d.138FB77F4EA3C67C2A2913A2E50BC6BF.e.111\")>,\n",
       " <selenium.webdriver.remote.webelement.WebElement (session=\"331e719a8859de93c11cbf85ffc4749a\", element=\"f.C26AABF74AC9622EF2002FB969A82A51.d.138FB77F4EA3C67C2A2913A2E50BC6BF.e.112\")>,\n",
       " <selenium.webdriver.remote.webelement.WebElement (session=\"331e719a8859de93c11cbf85ffc4749a\", element=\"f.C26AABF74AC9622EF2002FB969A82A51.d.138FB77F4EA3C67C2A2913A2E50BC6BF.e.113\")>,\n",
       " <selenium.webdriver.remote.webelement.WebElement (session=\"331e719a8859de93c11cbf85ffc4749a\", element=\"f.C26AABF74AC9622EF2002FB969A82A51.d.138FB77F4EA3C67C2A2913A2E50BC6BF.e.114\")>,\n",
       " <selenium.webdriver.remote.webelement.WebElement (session=\"331e719a8859de93c11cbf85ffc4749a\", element=\"f.C26AABF74AC9622EF2002FB969A82A51.d.138FB77F4EA3C67C2A2913A2E50BC6BF.e.115\")>,\n",
       " <selenium.webdriver.remote.webelement.WebElement (session=\"331e719a8859de93c11cbf85ffc4749a\", element=\"f.C26AABF74AC9622EF2002FB969A82A51.d.138FB77F4EA3C67C2A2913A2E50BC6BF.e.116\")>,\n",
       " <selenium.webdriver.remote.webelement.WebElement (session=\"331e719a8859de93c11cbf85ffc4749a\", element=\"f.C26AABF74AC9622EF2002FB969A82A51.d.138FB77F4EA3C67C2A2913A2E50BC6BF.e.117\")>,\n",
       " <selenium.webdriver.remote.webelement.WebElement (session=\"331e719a8859de93c11cbf85ffc4749a\", element=\"f.C26AABF74AC9622EF2002FB969A82A51.d.138FB77F4EA3C67C2A2913A2E50BC6BF.e.118\")>,\n",
       " <selenium.webdriver.remote.webelement.WebElement (session=\"331e719a8859de93c11cbf85ffc4749a\", element=\"f.C26AABF74AC9622EF2002FB969A82A51.d.138FB77F4EA3C67C2A2913A2E50BC6BF.e.119\")>,\n",
       " <selenium.webdriver.remote.webelement.WebElement (session=\"331e719a8859de93c11cbf85ffc4749a\", element=\"f.C26AABF74AC9622EF2002FB969A82A51.d.138FB77F4EA3C67C2A2913A2E50BC6BF.e.120\")>,\n",
       " <selenium.webdriver.remote.webelement.WebElement (session=\"331e719a8859de93c11cbf85ffc4749a\", element=\"f.C26AABF74AC9622EF2002FB969A82A51.d.138FB77F4EA3C67C2A2913A2E50BC6BF.e.121\")>,\n",
       " <selenium.webdriver.remote.webelement.WebElement (session=\"331e719a8859de93c11cbf85ffc4749a\", element=\"f.C26AABF74AC9622EF2002FB969A82A51.d.138FB77F4EA3C67C2A2913A2E50BC6BF.e.122\")>,\n",
       " <selenium.webdriver.remote.webelement.WebElement (session=\"331e719a8859de93c11cbf85ffc4749a\", element=\"f.C26AABF74AC9622EF2002FB969A82A51.d.138FB77F4EA3C67C2A2913A2E50BC6BF.e.123\")>,\n",
       " <selenium.webdriver.remote.webelement.WebElement (session=\"331e719a8859de93c11cbf85ffc4749a\", element=\"f.C26AABF74AC9622EF2002FB969A82A51.d.138FB77F4EA3C67C2A2913A2E50BC6BF.e.124\")>,\n",
       " <selenium.webdriver.remote.webelement.WebElement (session=\"331e719a8859de93c11cbf85ffc4749a\", element=\"f.C26AABF74AC9622EF2002FB969A82A51.d.138FB77F4EA3C67C2A2913A2E50BC6BF.e.125\")>,\n",
       " <selenium.webdriver.remote.webelement.WebElement (session=\"331e719a8859de93c11cbf85ffc4749a\", element=\"f.C26AABF74AC9622EF2002FB969A82A51.d.138FB77F4EA3C67C2A2913A2E50BC6BF.e.126\")>,\n",
       " <selenium.webdriver.remote.webelement.WebElement (session=\"331e719a8859de93c11cbf85ffc4749a\", element=\"f.C26AABF74AC9622EF2002FB969A82A51.d.138FB77F4EA3C67C2A2913A2E50BC6BF.e.127\")>,\n",
       " <selenium.webdriver.remote.webelement.WebElement (session=\"331e719a8859de93c11cbf85ffc4749a\", element=\"f.C26AABF74AC9622EF2002FB969A82A51.d.138FB77F4EA3C67C2A2913A2E50BC6BF.e.128\")>,\n",
       " <selenium.webdriver.remote.webelement.WebElement (session=\"331e719a8859de93c11cbf85ffc4749a\", element=\"f.C26AABF74AC9622EF2002FB969A82A51.d.138FB77F4EA3C67C2A2913A2E50BC6BF.e.129\")>,\n",
       " <selenium.webdriver.remote.webelement.WebElement (session=\"331e719a8859de93c11cbf85ffc4749a\", element=\"f.C26AABF74AC9622EF2002FB969A82A51.d.138FB77F4EA3C67C2A2913A2E50BC6BF.e.130\")>,\n",
       " <selenium.webdriver.remote.webelement.WebElement (session=\"331e719a8859de93c11cbf85ffc4749a\", element=\"f.C26AABF74AC9622EF2002FB969A82A51.d.138FB77F4EA3C67C2A2913A2E50BC6BF.e.131\")>,\n",
       " <selenium.webdriver.remote.webelement.WebElement (session=\"331e719a8859de93c11cbf85ffc4749a\", element=\"f.C26AABF74AC9622EF2002FB969A82A51.d.138FB77F4EA3C67C2A2913A2E50BC6BF.e.132\")>,\n",
       " <selenium.webdriver.remote.webelement.WebElement (session=\"331e719a8859de93c11cbf85ffc4749a\", element=\"f.C26AABF74AC9622EF2002FB969A82A51.d.138FB77F4EA3C67C2A2913A2E50BC6BF.e.133\")>,\n",
       " <selenium.webdriver.remote.webelement.WebElement (session=\"331e719a8859de93c11cbf85ffc4749a\", element=\"f.C26AABF74AC9622EF2002FB969A82A51.d.138FB77F4EA3C67C2A2913A2E50BC6BF.e.134\")>,\n",
       " <selenium.webdriver.remote.webelement.WebElement (session=\"331e719a8859de93c11cbf85ffc4749a\", element=\"f.C26AABF74AC9622EF2002FB969A82A51.d.138FB77F4EA3C67C2A2913A2E50BC6BF.e.135\")>,\n",
       " <selenium.webdriver.remote.webelement.WebElement (session=\"331e719a8859de93c11cbf85ffc4749a\", element=\"f.C26AABF74AC9622EF2002FB969A82A51.d.138FB77F4EA3C67C2A2913A2E50BC6BF.e.136\")>,\n",
       " <selenium.webdriver.remote.webelement.WebElement (session=\"331e719a8859de93c11cbf85ffc4749a\", element=\"f.C26AABF74AC9622EF2002FB969A82A51.d.138FB77F4EA3C67C2A2913A2E50BC6BF.e.137\")>,\n",
       " <selenium.webdriver.remote.webelement.WebElement (session=\"331e719a8859de93c11cbf85ffc4749a\", element=\"f.C26AABF74AC9622EF2002FB969A82A51.d.138FB77F4EA3C67C2A2913A2E50BC6BF.e.138\")>,\n",
       " <selenium.webdriver.remote.webelement.WebElement (session=\"331e719a8859de93c11cbf85ffc4749a\", element=\"f.C26AABF74AC9622EF2002FB969A82A51.d.138FB77F4EA3C67C2A2913A2E50BC6BF.e.139\")>,\n",
       " <selenium.webdriver.remote.webelement.WebElement (session=\"331e719a8859de93c11cbf85ffc4749a\", element=\"f.C26AABF74AC9622EF2002FB969A82A51.d.138FB77F4EA3C67C2A2913A2E50BC6BF.e.140\")>,\n",
       " <selenium.webdriver.remote.webelement.WebElement (session=\"331e719a8859de93c11cbf85ffc4749a\", element=\"f.C26AABF74AC9622EF2002FB969A82A51.d.138FB77F4EA3C67C2A2913A2E50BC6BF.e.141\")>,\n",
       " <selenium.webdriver.remote.webelement.WebElement (session=\"331e719a8859de93c11cbf85ffc4749a\", element=\"f.C26AABF74AC9622EF2002FB969A82A51.d.138FB77F4EA3C67C2A2913A2E50BC6BF.e.142\")>,\n",
       " <selenium.webdriver.remote.webelement.WebElement (session=\"331e719a8859de93c11cbf85ffc4749a\", element=\"f.C26AABF74AC9622EF2002FB969A82A51.d.138FB77F4EA3C67C2A2913A2E50BC6BF.e.143\")>,\n",
       " <selenium.webdriver.remote.webelement.WebElement (session=\"331e719a8859de93c11cbf85ffc4749a\", element=\"f.C26AABF74AC9622EF2002FB969A82A51.d.138FB77F4EA3C67C2A2913A2E50BC6BF.e.144\")>,\n",
       " <selenium.webdriver.remote.webelement.WebElement (session=\"331e719a8859de93c11cbf85ffc4749a\", element=\"f.C26AABF74AC9622EF2002FB969A82A51.d.138FB77F4EA3C67C2A2913A2E50BC6BF.e.145\")>,\n",
       " <selenium.webdriver.remote.webelement.WebElement (session=\"331e719a8859de93c11cbf85ffc4749a\", element=\"f.C26AABF74AC9622EF2002FB969A82A51.d.138FB77F4EA3C67C2A2913A2E50BC6BF.e.146\")>]"
      ]
     },
     "execution_count": 5,
     "metadata": {},
     "output_type": "execute_result"
    }
   ],
   "source": [
    "ebcn\n"
   ]
  },
  {
   "cell_type": "markdown",
   "id": "0ea97ebb",
   "metadata": {},
   "source": [
    "# Data  Segregation "
   ]
  },
  {
   "cell_type": "code",
   "execution_count": 6,
   "id": "5ccb1d16",
   "metadata": {},
   "outputs": [],
   "source": [
    "topic=[]\n",
    "headline=[]\n",
    "link=[]"
   ]
  },
  {
   "cell_type": "code",
   "execution_count": 7,
   "id": "c8607e3e",
   "metadata": {},
   "outputs": [],
   "source": [
    "\n",
    "for i in ebcn:\n",
    "    txt=i.text.split(\"\\n\")\n",
    "    topic.append(txt[0])\n",
    "    headline.append(txt[1])\n",
    "    link.append(i.find_element(By.TAG_NAME, \"a\").get_attribute(\"href\"))\n",
    "     \n",
    "    \n",
    "    \n",
    "        "
   ]
  },
  {
   "cell_type": "markdown",
   "id": "c6833489",
   "metadata": {},
   "source": [
    "# Saving as CSV"
   ]
  },
  {
   "cell_type": "code",
   "execution_count": 8,
   "id": "dea84da7",
   "metadata": {},
   "outputs": [],
   "source": [
    "\n",
    "dict={\"topic\":topic,\"link\":link,\"headline\":headline}"
   ]
  },
  {
   "cell_type": "code",
   "execution_count": 9,
   "id": "c76a727d",
   "metadata": {},
   "outputs": [],
   "source": [
    "extracted_news=pd.DataFrame(dict)"
   ]
  },
  {
   "cell_type": "code",
   "execution_count": 10,
   "id": "b20cf13f",
   "metadata": {},
   "outputs": [
    {
     "data": {
      "text/html": [
       "<div>\n",
       "<style scoped>\n",
       "    .dataframe tbody tr th:only-of-type {\n",
       "        vertical-align: middle;\n",
       "    }\n",
       "\n",
       "    .dataframe tbody tr th {\n",
       "        vertical-align: top;\n",
       "    }\n",
       "\n",
       "    .dataframe thead th {\n",
       "        text-align: right;\n",
       "    }\n",
       "</style>\n",
       "<table border=\"1\" class=\"dataframe\">\n",
       "  <thead>\n",
       "    <tr style=\"text-align: right;\">\n",
       "      <th></th>\n",
       "      <th>topic</th>\n",
       "      <th>link</th>\n",
       "      <th>headline</th>\n",
       "    </tr>\n",
       "  </thead>\n",
       "  <tbody>\n",
       "    <tr>\n",
       "      <th>0</th>\n",
       "      <td>US Presidential Elections</td>\n",
       "      <td>https://news.google.com/read/CBMisANBVV95cUxPa...</td>\n",
       "      <td>Indian Maestro endorses Kamala Harris</td>\n",
       "    </tr>\n",
       "    <tr>\n",
       "      <th>1</th>\n",
       "      <td>Jigra box office collection</td>\n",
       "      <td>https://news.google.com/read/CBMi8gJBVV95cUxQa...</td>\n",
       "      <td>Alia Bhatt’s action thriller starts slow on op...</td>\n",
       "    </tr>\n",
       "    <tr>\n",
       "      <th>2</th>\n",
       "      <td>IND vs NZ Test series</td>\n",
       "      <td>https://news.google.com/read/CBMiwwJBVV95cUxOR...</td>\n",
       "      <td>Pacer Mayank Yadav finds place for New Zealand...</td>\n",
       "    </tr>\n",
       "    <tr>\n",
       "      <th>3</th>\n",
       "      <td>Assam</td>\n",
       "      <td>https://news.google.com/read/CBMijANBVV95cUxNV...</td>\n",
       "      <td>PPFA Lauds Govt for Granting Classical Status ...</td>\n",
       "    </tr>\n",
       "    <tr>\n",
       "      <th>4</th>\n",
       "      <td>Assam</td>\n",
       "      <td>https://news.google.com/read/CBMijwNBVV95cUxPd...</td>\n",
       "      <td>Durga Puja Festivities Across Assam Marred by ...</td>\n",
       "    </tr>\n",
       "    <tr>\n",
       "      <th>...</th>\n",
       "      <td>...</td>\n",
       "      <td>...</td>\n",
       "      <td>...</td>\n",
       "    </tr>\n",
       "    <tr>\n",
       "      <th>100</th>\n",
       "      <td>World</td>\n",
       "      <td>https://news.google.com/read/CBMikgNBVV95cUxOZ...</td>\n",
       "      <td>Boeing To Cut 17,000 Workforce Amid Major Loss</td>\n",
       "    </tr>\n",
       "    <tr>\n",
       "      <th>101</th>\n",
       "      <td>Entertainment</td>\n",
       "      <td>https://news.google.com/read/CBMitgNBVV95cUxQX...</td>\n",
       "      <td>Vicky Vidya Ka Woh Wala Video Beats Alia Bhatt...</td>\n",
       "    </tr>\n",
       "    <tr>\n",
       "      <th>102</th>\n",
       "      <td>West Asia crisis</td>\n",
       "      <td>https://news.google.com/read/CBMiywJBVV95cUxPb...</td>\n",
       "      <td>Hezbollah launches missiles on Israeli militar...</td>\n",
       "    </tr>\n",
       "    <tr>\n",
       "      <th>103</th>\n",
       "      <td>Karachi airport attack</td>\n",
       "      <td>https://news.google.com/read/CBMi3AJBVV95cUxPU...</td>\n",
       "      <td>China, Pak push to sanction BLA wing following...</td>\n",
       "    </tr>\n",
       "    <tr>\n",
       "      <th>104</th>\n",
       "      <td>Narendra Modi</td>\n",
       "      <td>https://news.google.com/read/CBMiyAJBVV95cUxOM...</td>\n",
       "      <td>Boris felt Indian PM’s ‘curious astral energy’...</td>\n",
       "    </tr>\n",
       "  </tbody>\n",
       "</table>\n",
       "<p>105 rows × 3 columns</p>\n",
       "</div>"
      ],
      "text/plain": [
       "                           topic  \\\n",
       "0      US Presidential Elections   \n",
       "1    Jigra box office collection   \n",
       "2          IND vs NZ Test series   \n",
       "3                          Assam   \n",
       "4                          Assam   \n",
       "..                           ...   \n",
       "100                        World   \n",
       "101                Entertainment   \n",
       "102             West Asia crisis   \n",
       "103       Karachi airport attack   \n",
       "104                Narendra Modi   \n",
       "\n",
       "                                                  link  \\\n",
       "0    https://news.google.com/read/CBMisANBVV95cUxPa...   \n",
       "1    https://news.google.com/read/CBMi8gJBVV95cUxQa...   \n",
       "2    https://news.google.com/read/CBMiwwJBVV95cUxOR...   \n",
       "3    https://news.google.com/read/CBMijANBVV95cUxNV...   \n",
       "4    https://news.google.com/read/CBMijwNBVV95cUxPd...   \n",
       "..                                                 ...   \n",
       "100  https://news.google.com/read/CBMikgNBVV95cUxOZ...   \n",
       "101  https://news.google.com/read/CBMitgNBVV95cUxQX...   \n",
       "102  https://news.google.com/read/CBMiywJBVV95cUxPb...   \n",
       "103  https://news.google.com/read/CBMi3AJBVV95cUxPU...   \n",
       "104  https://news.google.com/read/CBMiyAJBVV95cUxOM...   \n",
       "\n",
       "                                              headline  \n",
       "0                Indian Maestro endorses Kamala Harris  \n",
       "1    Alia Bhatt’s action thriller starts slow on op...  \n",
       "2    Pacer Mayank Yadav finds place for New Zealand...  \n",
       "3    PPFA Lauds Govt for Granting Classical Status ...  \n",
       "4    Durga Puja Festivities Across Assam Marred by ...  \n",
       "..                                                 ...  \n",
       "100     Boeing To Cut 17,000 Workforce Amid Major Loss  \n",
       "101  Vicky Vidya Ka Woh Wala Video Beats Alia Bhatt...  \n",
       "102  Hezbollah launches missiles on Israeli militar...  \n",
       "103  China, Pak push to sanction BLA wing following...  \n",
       "104  Boris felt Indian PM’s ‘curious astral energy’...  \n",
       "\n",
       "[105 rows x 3 columns]"
      ]
     },
     "execution_count": 10,
     "metadata": {},
     "output_type": "execute_result"
    }
   ],
   "source": [
    "extracted_news"
   ]
  },
  {
   "cell_type": "code",
   "execution_count": 11,
   "id": "54640420",
   "metadata": {},
   "outputs": [],
   "source": [
    "extracted_news.to_csv(\"news.csv\",index=\"False\")"
   ]
  },
  {
   "cell_type": "code",
   "execution_count": 12,
   "id": "eb83d744",
   "metadata": {},
   "outputs": [],
   "source": [
    "driver.quit()"
   ]
  }
 ],
 "metadata": {
  "kernelspec": {
   "display_name": "Python 3 (ipykernel)",
   "language": "python",
   "name": "python3"
  },
  "language_info": {
   "codemirror_mode": {
    "name": "ipython",
    "version": 3
   },
   "file_extension": ".py",
   "mimetype": "text/x-python",
   "name": "python",
   "nbconvert_exporter": "python",
   "pygments_lexer": "ipython3",
   "version": "3.11.0"
  }
 },
 "nbformat": 4,
 "nbformat_minor": 5
}
