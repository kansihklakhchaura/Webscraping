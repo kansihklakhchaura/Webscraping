{
 "cells": [
  {
   "cell_type": "code",
   "execution_count": 6,
   "id": "209be8b2",
   "metadata": {},
   "outputs": [],
   "source": [
    "import requests as r\n",
    "import bs4 as bs\n",
    "import time"
   ]
  },
  {
   "cell_type": "code",
   "execution_count": 7,
   "id": "31dd24b3",
   "metadata": {},
   "outputs": [],
   "source": [
    "from selenium import webdriver\n",
    "from selenium.webdriver.common.by import By\n",
    "from selenium.webdriver.support.ui import Select"
   ]
  },
  {
   "cell_type": "code",
   "execution_count": 8,
   "id": "07888c13",
   "metadata": {},
   "outputs": [],
   "source": [
    "wbs=\"https://pib.gov.in/allRel.aspx\"\n"
   ]
  },
  {
   "cell_type": "code",
   "execution_count": 9,
   "id": "a6186d65",
   "metadata": {},
   "outputs": [],
   "source": [
    "path=r\"C:\\Users\\Dell\\Downloads\\chromedriver-win64 (2)\\chromedriver-win64\\chromedriver.exe\""
   ]
  },
  {
   "cell_type": "code",
   "execution_count": 10,
   "id": "09148175",
   "metadata": {},
   "outputs": [
    {
     "name": "stderr",
     "output_type": "stream",
     "text": [
      "C:\\Users\\Dell\\AppData\\Local\\Temp\\ipykernel_17452\\3558225199.py:1: DeprecationWarning: executable_path has been deprecated, please pass in a Service object\n",
      "  driver=webdriver.Chrome(path)\n"
     ]
    }
   ],
   "source": [
    "driver=webdriver.Chrome(path)"
   ]
  },
  {
   "cell_type": "code",
   "execution_count": 11,
   "id": "1db8584f",
   "metadata": {},
   "outputs": [],
   "source": [
    "driver.get(wbs)"
   ]
  },
  {
   "cell_type": "code",
   "execution_count": 12,
   "id": "0f744cfd",
   "metadata": {},
   "outputs": [],
   "source": [
    "dd=Select(driver.find_element(By.ID,\"ContentPlaceHolder1_ddlday\"))\n",
    "dd.select_by_visible_text(\"All\")\n",
    "\n",
    "dd=Select(driver.find_element(By.ID,\"ContentPlaceHolder1_ddlYear\"))\n",
    "dd.select_by_visible_text(\"2024\")"
   ]
  },
  {
   "cell_type": "code",
   "execution_count": 13,
   "id": "82bea31b",
   "metadata": {},
   "outputs": [],
   "source": [
    "month=[]\n",
    "title=[]\n",
    "herf=[]\n",
    "posted=[]"
   ]
  },
  {
   "cell_type": "code",
   "execution_count": 14,
   "id": "4eea3530",
   "metadata": {},
   "outputs": [],
   "source": [
    "months=[\"January\",\"February\",\"March\",\"April\",\"May\",\"June\",\"July\"]\n",
    "\n",
    "for j in months:\n",
    "    dd=Select(driver.find_element(By.ID,\"ContentPlaceHolder1_ddlMonth\"))\n",
    "    dd.select_by_visible_text(j)\n",
    "    time.sleep(1)\n",
    "    b=driver.find_element(By.CLASS_NAME,\"content-area\")\n",
    "    l=b.find_elements(By.XPATH,\"//ul/li\")\n",
    "\n",
    "    for i in l:\n",
    "        month.append(j)\n",
    "        try:\n",
    "            title.append(i.find_element(By.TAG_NAME,\"a\").text)\n",
    "        except:\n",
    "            title.append(\"\")\n",
    "        try:\n",
    "            herf.append(i.find_element(By.TAG_NAME,\"a\").get_attribute(\"href\"))\n",
    "        except:\n",
    "            herf.append(\"\")\n",
    "        try:\n",
    "            posted.append(i.find_element(By.TAG_NAME,\"span\").text)\n",
    "        except:\n",
    "            posted.append(\"\")\n",
    "\n",
    "\n",
    "        \n",
    "\n",
    "    \n",
    "    \n",
    "    "
   ]
  },
  {
   "cell_type": "code",
   "execution_count": 15,
   "id": "91f69854",
   "metadata": {},
   "outputs": [],
   "source": [
    "dict={}"
   ]
  },
  {
   "cell_type": "code",
   "execution_count": 16,
   "id": "a10f5c64",
   "metadata": {
    "scrolled": true
   },
   "outputs": [],
   "source": [
    "for i in range(len(posted)):\n",
    "    if len(posted[i]) > 0:\n",
    "        posted[i]=posted[i][11:]    \n",
    "    "
   ]
  },
  {
   "cell_type": "code",
   "execution_count": 17,
   "id": "da2a3873",
   "metadata": {},
   "outputs": [],
   "source": [
    "dict[\"Titles\"]=title\n",
    "dict[\"Links\"]=herf\n",
    "dict[\"Postedon\"]=posted\n",
    "dict[\"month\"]=month"
   ]
  },
  {
   "cell_type": "markdown",
   "id": "eca2e492",
   "metadata": {},
   "source": [
    "# DATA CLEANING"
   ]
  },
  {
   "cell_type": "code",
   "execution_count": 18,
   "id": "a7ed4345",
   "metadata": {},
   "outputs": [],
   "source": [
    "import pandas as pd\n",
    "df=pd.DataFrame(dict)\n",
    "\n"
   ]
  },
  {
   "cell_type": "code",
   "execution_count": 19,
   "id": "b3de63c6",
   "metadata": {},
   "outputs": [],
   "source": [
    "df=df.replace(\"\", None)\n",
    "\n"
   ]
  },
  {
   "cell_type": "code",
   "execution_count": 20,
   "id": "75c367f3",
   "metadata": {},
   "outputs": [],
   "source": [
    "fildf=df.dropna()"
   ]
  },
  {
   "cell_type": "code",
   "execution_count": 21,
   "id": "406fb7f5",
   "metadata": {
    "scrolled": true
   },
   "outputs": [
    {
     "data": {
      "text/html": [
       "<div>\n",
       "<style scoped>\n",
       "    .dataframe tbody tr th:only-of-type {\n",
       "        vertical-align: middle;\n",
       "    }\n",
       "\n",
       "    .dataframe tbody tr th {\n",
       "        vertical-align: top;\n",
       "    }\n",
       "\n",
       "    .dataframe thead th {\n",
       "        text-align: right;\n",
       "    }\n",
       "</style>\n",
       "<table border=\"1\" class=\"dataframe\">\n",
       "  <thead>\n",
       "    <tr style=\"text-align: right;\">\n",
       "      <th></th>\n",
       "      <th>Titles</th>\n",
       "      <th>Links</th>\n",
       "      <th>Postedon</th>\n",
       "      <th>month</th>\n",
       "    </tr>\n",
       "  </thead>\n",
       "  <tbody>\n",
       "    <tr>\n",
       "      <th>61</th>\n",
       "      <td>ADDRESS BY THE HON’BLE PRESIDENT OF India Smt....</td>\n",
       "      <td>https://pib.gov.in/PressReleasePage.aspx?PRID=...</td>\n",
       "      <td>31 Jan 2024</td>\n",
       "      <td>January</td>\n",
       "    </tr>\n",
       "    <tr>\n",
       "      <th>62</th>\n",
       "      <td>ADDRESS BY THE HON’BLE PRESIDENT OF India Smt....</td>\n",
       "      <td>https://pib.gov.in/PressReleasePage.aspx?PRID=...</td>\n",
       "      <td>31 Jan 2024</td>\n",
       "      <td>January</td>\n",
       "    </tr>\n",
       "    <tr>\n",
       "      <th>63</th>\n",
       "      <td>PRESIDENT OF INDIA HOSTS PRESIDENT OF FRANCE</td>\n",
       "      <td>https://pib.gov.in/PressReleasePage.aspx?PRID=...</td>\n",
       "      <td>26 Jan 2024</td>\n",
       "      <td>January</td>\n",
       "    </tr>\n",
       "    <tr>\n",
       "      <th>64</th>\n",
       "      <td>ADDRESS TO THE NATION BY THE PRESIDENT OF INDI...</td>\n",
       "      <td>https://pib.gov.in/PressReleasePage.aspx?PRID=...</td>\n",
       "      <td>25 Jan 2024</td>\n",
       "      <td>January</td>\n",
       "    </tr>\n",
       "    <tr>\n",
       "      <th>65</th>\n",
       "      <td>PRESIDENT OF INDIA GRACES THE 14TH NATIONAL VO...</td>\n",
       "      <td>https://pib.gov.in/PressReleasePage.aspx?PRID=...</td>\n",
       "      <td>25 Jan 2024</td>\n",
       "      <td>January</td>\n",
       "    </tr>\n",
       "  </tbody>\n",
       "</table>\n",
       "</div>"
      ],
      "text/plain": [
       "                                               Titles  \\\n",
       "61  ADDRESS BY THE HON’BLE PRESIDENT OF India Smt....   \n",
       "62  ADDRESS BY THE HON’BLE PRESIDENT OF India Smt....   \n",
       "63       PRESIDENT OF INDIA HOSTS PRESIDENT OF FRANCE   \n",
       "64  ADDRESS TO THE NATION BY THE PRESIDENT OF INDI...   \n",
       "65  PRESIDENT OF INDIA GRACES THE 14TH NATIONAL VO...   \n",
       "\n",
       "                                                Links     Postedon    month  \n",
       "61  https://pib.gov.in/PressReleasePage.aspx?PRID=...  31 Jan 2024  January  \n",
       "62  https://pib.gov.in/PressReleasePage.aspx?PRID=...  31 Jan 2024  January  \n",
       "63  https://pib.gov.in/PressReleasePage.aspx?PRID=...  26 Jan 2024  January  \n",
       "64  https://pib.gov.in/PressReleasePage.aspx?PRID=...  25 Jan 2024  January  \n",
       "65  https://pib.gov.in/PressReleasePage.aspx?PRID=...  25 Jan 2024  January  "
      ]
     },
     "execution_count": 21,
     "metadata": {},
     "output_type": "execute_result"
    }
   ],
   "source": [
    "fildf.head()"
   ]
  },
  {
   "cell_type": "code",
   "execution_count": null,
   "id": "6cddb1e2",
   "metadata": {},
   "outputs": [],
   "source": []
  },
  {
   "cell_type": "code",
   "execution_count": null,
   "id": "d8aebe6c",
   "metadata": {},
   "outputs": [],
   "source": [
    "\n"
   ]
  }
 ],
 "metadata": {
  "kernelspec": {
   "display_name": "Python 3",
   "language": "python",
   "name": "python3"
  },
  "language_info": {
   "codemirror_mode": {
    "name": "ipython",
    "version": 3
   },
   "file_extension": ".py",
   "mimetype": "text/x-python",
   "name": "python",
   "nbconvert_exporter": "python",
   "pygments_lexer": "ipython3",
   "version": "3.11.0"
  }
 },
 "nbformat": 4,
 "nbformat_minor": 5
}
